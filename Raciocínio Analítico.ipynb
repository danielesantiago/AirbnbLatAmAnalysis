{
 "cells": [
  {
   "cell_type": "markdown",
   "id": "ab046a65",
   "metadata": {},
   "source": [
    "### Raciocínio Analítico - Análise dos Dados do Airbnb"
   ]
  },
  {
   "cell_type": "markdown",
   "id": "5629acd3",
   "metadata": {},
   "source": [
    "O Airbnb começou em 2008, quando dois designers que tinham um espaço sobrando hospedaram três viajantes que procuravam um lugar para ficar. Agora, milhões de anfitriões e viajantes optam por criar uma conta gratuita no Airbnb para poderem anunciar seu espaço e reservar acomodações únicas, em qualquer lugar do mundo. Além disso, os anfitriões de experiências do Airbnb compartilham suas paixões e interesses com viajantes e moradores locais.\n",
    "\n",
    "Podemos considerá-lo como uma plataforma que oferece opções além de hotéis para a hospedagem de clientes. É permitido anunciar um espaço disponível para alugar durante um curto período, como uma casa, ou mesmo um quarto e também podem reservar acomodações em qualquer lugar do mundo.\n",
    "\n",
    "No final de 2018, a Startup fundada há 10 anos, já havia hospedado mais de 300 milhões de pessoas ao redor de todo o mundo, desafiando as redes hoteleiras tradicionais e se tornando uma das maiores do mundo."
   ]
  },
  {
   "cell_type": "markdown",
   "id": "c8c841e0",
   "metadata": {},
   "source": [
    "<img src =\"img.jpg\" width = \"80%\">\n",
    "                             \n",
    "<center>Photo by <a href=\"https://unsplash.com/@stephen2002?utm_source=unsplash&utm_medium=referral&utm_content=creditCopyText\">Stephen Wheeler</a> on <a href=\"https://unsplash.com/photos/hBh9JbyeCtg?utm_source=unsplash&utm_medium=referral&utm_content=creditCopyText\">Unsplash</a>\n",
    "    </center>\n",
    "  "
   ]
  },
  {
   "cell_type": "markdown",
   "id": "d426c514",
   "metadata": {},
   "source": [
    "Você trabalha na divisão América Latina do Airbnb e está comparando a operação do Airbnb nos 4 principais países da empresa na região: Brasil, México, Argentina e Colômbia.\n",
    "Um dos **objetivos da divisão é aumentar a quantidade de diárias reservadas por turistas estrangeiros nas hospedagens disponíveis na América Latina**. Para a realização das atividades, você conta com essa base de dados com informações sobre as diferentes hospedagens disponíveis e a demanda\n",
    "das mesmas ao longo do tempo."
   ]
  },
  {
   "cell_type": "markdown",
   "id": "e1901076",
   "metadata": {},
   "source": [
    "### Obtenção dos Dados\n",
    "\n",
    "Para essa análise será baixado o arquivo disponível [aqui](https://docs.google.com/spreadsheets/d/10XiW4y9bQ323wkCYh3gMvqP7SWgTsAAdpusxg_38krQ/edit#gid=515346924)."
   ]
  },
  {
   "cell_type": "code",
   "execution_count": 985,
   "id": "33aef97e",
   "metadata": {},
   "outputs": [],
   "source": [
    "# importar os pacotes necessarios\n",
    "import pandas as pd\n",
    "import matplotlib.pyplot as plt\n",
    "import seaborn as sns\n",
    "import numpy as np\n",
    "from scipy import stats\n",
    "\n",
    "%matplotlib inline\n",
    "# tamanho dos gráficos\n",
    "plt.rcParams[\"figure.figsize\"] = [10,5]\n",
    "# tamanho dos dados\n",
    "plt.rcParams[\"font.size\"] = 12\n",
    "\n",
    "df = pd.read_excel(\"Airbnb.xlsx\", sheet_name = \"Imoveis\")"
   ]
  },
  {
   "cell_type": "markdown",
   "id": "fd5226a3",
   "metadata": {},
   "source": [
    "### Análise dos Dados\n",
    "Esta etapa tem por objetivo criar uma consciência situacional inicial e permitir um entendimento de como os dados estão estruturados.\n",
    "\n",
    "**Dicionário das variáveis**\n",
    "\n",
    "* `Nome do local`: Esta coluna representa o título ou descrição curta da acomodação. Geralmente, os anfitriões usam isso para dar uma visão geral da sua propriedade. Exemplos podem incluir \"Loft Moderno no Centro\" ou \"Casa de Praia com Piscina\".\n",
    "\n",
    "* `Localização`: Refere-se ao endereço ou área exata onde a propriedade está situada. Pode incluir informações como a cidade, o bairro e até mesmo referências próximas, como \"próximo ao Parque Central\".\n",
    "\n",
    "* `País`: Indica em qual dos quatro principais países da América Latina (Brasil, México, Argentina, Colômbia) a acomodação está localizada.\n",
    "\n",
    "* `Tipo de acomodação`: Classificação da propriedade com base em sua estrutura e oferta. Exemplos incluem \"Quarto Inteiro\", \"Casa Inteira\", \"Quarto Compartilhado\" e assim por diante.\n",
    "\n",
    "* `Classificação`: Baseado nas avaliações e feedback dos hóspedes anteriores, esta coluna representa a média de estrelas que a acomodação recebeu, geralmente numa escala de 1 a 5.\n",
    "\n",
    "* `Comodidades`: Uma lista de facilidades e serviços oferecidos pela acomodação. Isso pode incluir \"Wi-Fi\", \"Piscina\", \"Cozinha Equipada\", entre outros.\n",
    "\n",
    "* `Políticas de cancelamento`: Define os termos e condições para cancelar uma reserva. Alguns anfitriões podem oferecer cancelamento gratuito até certo período, enquanto outros podem ter políticas mais rigorosas.\n",
    "\n",
    "* `Preço`: O custo da acomodação por noite. Esta coluna pode ser essencial para determinar a faixa de preço das propriedades nos diferentes países e como isso se relaciona com a demanda.\n",
    "\n",
    "* `Número de reservas no ano`: Esta coluna indica quantas vezes a acomodação foi reservada durante o ano. Isso pode ajudar a identificar quais propriedades são mais populares ou em demanda.\n",
    "\n",
    "* `Número de Fotos`: Indica quantas imagens foram carregadas pelo anfitrião para representar sua propriedade. Isso pode ser uma indicação da transparência e do esforço do anfitrião em mostrar sua acomodação."
   ]
  },
  {
   "cell_type": "markdown",
   "id": "bfd08efc",
   "metadata": {},
   "source": [
    "### Definição do Problema\n",
    "\n",
    "Problema: Baixa reserva de turistas estrangeiros nas hospedagens disponíveis na América Latina\n",
    "\n",
    "Objetivo: Aumentar a quantidade de diárias reservadas por turistas estrangeiros nas hospedagens disponíveis na América Latina\n",
    "\n"
   ]
  },
  {
   "cell_type": "markdown",
   "id": "6085fbe4",
   "metadata": {},
   "source": [
    "### Análise Exploratória de Dados - E.D.A"
   ]
  },
  {
   "cell_type": "markdown",
   "id": "eefac658",
   "metadata": {},
   "source": [
    "Primeiramente irei analisar as informações mais imediatas que temos sobre os dados."
   ]
  },
  {
   "cell_type": "code",
   "execution_count": 986,
   "id": "7434e27b",
   "metadata": {},
   "outputs": [],
   "source": [
    "print(\"Entradas: \", df[df.columns[0]].count())\n",
    "print(\"Variáveis: \", df.shape[1])"
   ]
  },
  {
   "cell_type": "code",
   "execution_count": 987,
   "id": "a0d16606",
   "metadata": {},
   "outputs": [],
   "source": [
    "# verificar as 5 primeiras entradas do dataset\n",
    "df.head()"
   ]
  },
  {
   "cell_type": "code",
   "execution_count": 988,
   "id": "470307ea",
   "metadata": {
    "scrolled": true
   },
   "outputs": [],
   "source": [
    "df.info()"
   ]
  },
  {
   "cell_type": "markdown",
   "id": "2095562a",
   "metadata": {},
   "source": [
    "Não há variáveis nulas e o tipo de dado está coerente com a sua informação."
   ]
  },
  {
   "cell_type": "markdown",
   "id": "b630f128",
   "metadata": {},
   "source": [
    "#### 1. Análise das Principais Métricas de Preço das Diárias nos 4 Países"
   ]
  },
  {
   "cell_type": "code",
   "execution_count": 989,
   "id": "204ad2bb",
   "metadata": {},
   "outputs": [],
   "source": [
    "df.groupby('País')['Preço'].describe()"
   ]
  },
  {
   "cell_type": "markdown",
   "id": "3d49be5b",
   "metadata": {},
   "source": [
    "Pode-se observar que:\n",
    "\n",
    "* A média de preço da Colômbia é a menor entre os países, porém o país possui o menor desvio padrão.\n",
    "* O Brasil é o país com maior desvio padrão de preços.\n",
    "* O Brasil tem a maior amplitude de preço, com uma diferença de 265 (300-35).\n",
    "* A Argentina possui a menor amplitude de preço entre os quatro países, com uma diferença de 262 (272-10).\n",
    "* Apesar da Colômbia ter a menor média, Argentina e México possuem o menor preço mínimo de hospedagem.\n",
    "* Para todos os países, a mediana está próxima da média, o que sugere uma distribuição simétrica, exceto a Argentina, que possui a mediana maior que a média e sugere uma distribuição assimétrica à esquerda."
   ]
  },
  {
   "cell_type": "markdown",
   "id": "66ab8975",
   "metadata": {},
   "source": [
    "#### 2. Distribuição de Preço dos Imóveis no Brasil"
   ]
  },
  {
   "cell_type": "code",
   "execution_count": 990,
   "id": "562cadb4",
   "metadata": {},
   "outputs": [],
   "source": [
    "paises = df['País'].unique()\n",
    "\n",
    "# Define o estilo e o tamanho do gráfico\n",
    "fig, ax = plt.subplots(nrows = 2, ncols = 2, figsize = (12,8))\n",
    "sns.set_style(\"whitegrid\", {'axes.grid' : False})\n",
    "\n",
    "cor_histograma = \"gray\"\n",
    "\n",
    "# Cria o histograma\n",
    "sns.histplot(df['Preço'].loc[df['País'] == paises[0]], kde=True, bins=range(0, 400, 50), color= cor_histograma, ax = ax[0][0])\n",
    "sns.histplot(df['Preço'].loc[df['País'] == paises[1]], kde=True, bins=range(0, 400, 50), color=cor_histograma, ax = ax[0][1])\n",
    "sns.histplot(df['Preço'].loc[df['País'] == paises[2]], kde=True, bins=range(0, 400, 50), color=cor_histograma, ax = ax[1][0])\n",
    "sns.histplot(df['Preço'].loc[df['País'] == paises[3]], kde=True, bins=range(0, 400, 50), color=cor_histograma, ax = ax[1][1])\n",
    "\n",
    "# Adiciona título e rótulos\n",
    "ax[0][0].set_title(paises[0])\n",
    "ax[0][0].lines[0].set_color('#1976D2')\n",
    "ax[0][0].set_xlabel(\"Preço\", fontsize=12)\n",
    "ax[0][0].set_ylabel(\"Acomodações\", fontsize=12)\n",
    "ax[0][0].grid(False)\n",
    "\n",
    "ax[0][1].set_title(paises[1])\n",
    "ax[0][1].lines[0].set_color('#1976D2')\n",
    "ax[0][1].set_xlabel(\"Preço\", fontsize=12)\n",
    "ax[0][1].set_ylabel(\"Acomodações\", fontsize=12)\n",
    "\n",
    "ax[1][0].set_title(paises[2])\n",
    "ax[1][0].lines[0].set_color('#1976D2')\n",
    "ax[1][0].set_xlabel(\"Preço\", fontsize=12)\n",
    "ax[1][0].set_ylabel(\"Acomodações\", fontsize=12)\n",
    "\n",
    "ax[1][1].set_title(paises[3])\n",
    "ax[1][1].lines[0].set_color('#1976D2')\n",
    "ax[1][1].set_xlabel(\"Preço\", fontsize=12)\n",
    "ax[1][1].set_ylabel(\"Acomodações\", fontsize=12)\n",
    "\n",
    "\n",
    "# Remove a borda superior e direita para limpeza\n",
    "sns.despine()\n",
    "\n",
    "plt.tight_layout()"
   ]
  },
  {
   "cell_type": "markdown",
   "id": "8ea6b871",
   "metadata": {},
   "source": [
    "A quantidade de dados são poucas, mas ainda assim é possível observar que:\n",
    "\n",
    "* O México se aproxima de uma distribuição normal\n",
    "* A Argentina se assemelha a uma distribuição assimétrica à esquerda\n",
    "* Brasil e Colômbia se assemelham a uma curva normal\n",
    "\n",
    "Embora certas tendências possam ser observadas nos dados atuais, a confiabilidade dessas observações é reduzida devido ao pequeno tamanho da amostra. Abaixo, realizarei um teste KS para verificar a distribuição no Brasil."
   ]
  },
  {
   "cell_type": "code",
   "execution_count": 991,
   "id": "f9d2b67f",
   "metadata": {},
   "outputs": [],
   "source": [
    "data = df['Preço'].loc[df['País'] == 'Brasil']\n",
    "\n",
    "ks_statistic, ks_p_value = stats.kstest(data, 'norm', args=(np.mean(data), np.std(data)))\n",
    "\n",
    "print(\"Estatística KS:\", ks_statistic)\n",
    "print(\"Valor-p:\", ks_p_value)\n",
    "\n",
    "# Avaliar o resultado\n",
    "if ks_p_value > 0.05:\n",
    "    print(\"Não rejeitamos a hipótese nula. Os dados seguem uma distribuição normal.\")\n",
    "else:\n",
    "    print(\"Rejeitamos a hipótese nula. Os dados não seguem uma distribuição normal.\")"
   ]
  },
  {
   "cell_type": "markdown",
   "id": "a83a778b",
   "metadata": {},
   "source": [
    "Apesar de não rejeitarmos a hipótese nula, como citado previamente, a quantidade de dados limitados da nossa amostra diminui o poder estatístico. Logo, a forma das distribuições devem ser interpretadas com cautela."
   ]
  },
  {
   "cell_type": "markdown",
   "id": "9c2c9691",
   "metadata": {},
   "source": [
    "#### 3. Funil de Conversão"
   ]
  },
  {
   "cell_type": "markdown",
   "id": "a21ef9ea",
   "metadata": {},
   "source": [
    "Um funil de conversão é uma representação visual ou conceitual do processo que os clientes ou usuários passam, desde o primeiro contato com a marca ou produto até a conclusão de um objetivo específico, que geralmente é uma conversão. Em marketing digital e análise de comércio eletrônico, essa \"conversão\" muitas vezes se refere a uma venda, mas também pode se referir a outras ações desejadas, como inscrever-se em uma newsletter, fazer o download de um aplicativo ou preencher um formulário de contato."
   ]
  },
  {
   "cell_type": "markdown",
   "id": "d1851591",
   "metadata": {},
   "source": [
    "<img src = 'funil.png' width = '80%'>"
   ]
  },
  {
   "cell_type": "markdown",
   "id": "69c809a3",
   "metadata": {},
   "source": [
    "Aqui está uma decomposição do funil de conversão:\n",
    "\n",
    "1. **Consciência (Awareness)**: É a etapa superior do funil e representa as pessoas que tomaram conhecimento da sua marca, produto ou serviço. Isso pode acontecer através de anúncios, pesquisas em mecanismos de busca, redes sociais, entre outros.\n",
    "\n",
    "2. **Interesse (Interest)**: Depois de conhecer a marca, alguns desses indivíduos mostrarão interesse em saber mais. Eles podem visitar o site, seguir a marca nas redes sociais ou se inscrever para receber e-mails.\n",
    "\n",
    "3. **Consideração (Consideration)**: Nesta fase, os potenciais clientes estão avaliando ativamente a oferta e comparando-a com outras opções disponíveis no mercado.\n",
    "\n",
    "4. **Intenção (Intent)**: Os usuários nesta etapa têm uma intenção clara de comprar ou converter, mas podem precisar de mais informações ou garantias.\n",
    "\n",
    "5. **Conversão (Conversion)**: Este é o objetivo final do funil, onde os usuários tomam a ação desejada, seja comprando um produto, inscrevendo-se para um webinar, entre outros.\n",
    "\n",
    "6. **Pós-conversão (Post-conversion)**: Embora muitas vezes não seja visualizada como parte do funil de conversão tradicional, esta etapa envolve reter e engajar clientes após a conversão inicial, levando-os a repetir compras ou ações e a se tornar defensores da marca."
   ]
  },
  {
   "cell_type": "markdown",
   "id": "a82ca4d2",
   "metadata": {},
   "source": [
    "Abaixo, realizaremos o funil de conversão para cada um dos países."
   ]
  },
  {
   "cell_type": "markdown",
   "id": "81ed32b5",
   "metadata": {},
   "source": [
    "#### Brasil"
   ]
  },
  {
   "cell_type": "code",
   "execution_count": 992,
   "id": "5d68d850",
   "metadata": {},
   "outputs": [],
   "source": [
    "# Defina as linhas iniciais e finais que você deseja ler\n",
    "linha_inicial = 1  \n",
    "linha_final = 25   \n",
    "\n",
    "# Calcule o número de linhas a serem lidas\n",
    "n_linhas = linha_final - linha_inicial + 1\n",
    "\n",
    "# Faça a leitura das linhas desejadas do arquivo Excel\n",
    "df_br = pd.read_excel(\"Airbnb.xlsx\", sheet_name=\"Fluxo de reserva de imóvel - Br\", skiprows=range(1, linha_inicial), nrows=n_linhas)"
   ]
  },
  {
   "cell_type": "code",
   "execution_count": 993,
   "id": "8fb2df5e",
   "metadata": {},
   "outputs": [],
   "source": [
    "df_br.head()"
   ]
  },
  {
   "cell_type": "markdown",
   "id": "6fa32df3",
   "metadata": {},
   "source": [
    "#### Funil 1: Da etapa `Home` para `Resultado de Busca`"
   ]
  },
  {
   "cell_type": "code",
   "execution_count": 994,
   "id": "47de6daa",
   "metadata": {},
   "outputs": [],
   "source": [
    "(df_br['Resultado de busca'].sum()/df_br['Home'].sum()).round(2)"
   ]
  },
  {
   "cell_type": "markdown",
   "id": "e235d2c0",
   "metadata": {},
   "source": [
    "#### Funil 2: Da etapa `Resultado de busca` para `Detalhes do imóvel`"
   ]
  },
  {
   "cell_type": "code",
   "execution_count": 995,
   "id": "b4b2458a",
   "metadata": {},
   "outputs": [],
   "source": [
    "(df_br['Detalhes do imóvel'].sum()/df_br['Resultado de busca'].sum()).round(2)"
   ]
  },
  {
   "cell_type": "markdown",
   "id": "b84d25e9",
   "metadata": {},
   "source": [
    "#### Funil 3: Da etapa `Detalhes do imóvel` para `Check-out`"
   ]
  },
  {
   "cell_type": "code",
   "execution_count": 996,
   "id": "4d0e22cd",
   "metadata": {
    "scrolled": true
   },
   "outputs": [],
   "source": [
    "(df_br['Check-out'].sum()/df_br['Detalhes do imóvel'].sum()).round(2)"
   ]
  },
  {
   "cell_type": "markdown",
   "id": "dc7312f9",
   "metadata": {},
   "source": [
    "#### Funil 4: Da etapa `Check-out` para `Conclusão da reserva`"
   ]
  },
  {
   "cell_type": "code",
   "execution_count": 997,
   "id": "927d200f",
   "metadata": {
    "scrolled": true
   },
   "outputs": [],
   "source": [
    "(df_br['Conclusão da reserva'].sum()/df_br['Check-out'].sum()).round(2)"
   ]
  },
  {
   "cell_type": "markdown",
   "id": "92f58fff",
   "metadata": {},
   "source": [
    "Vamos calcular a queda percentual entre cada etapa:\n",
    "\n",
    "1. Da etapa 1 para etapa 2:\n",
    "(0.79 - 0.87)/0.79 = -0.1013 ou -10.13%\n",
    "\n",
    "2. Da etapa 2 para etapa 3:\n",
    "(0.87 - 0.76)/0.87 = 0.1264 ou 12.64%\n",
    "\n",
    "3. Da etapa 3 para etapa 4:\n",
    "(0.76 - 0.69)/0.76 = 0.0921 ou 9.21%\n",
    "\n",
    "Por fim, a conversão geral:\n",
    "\n",
    "Conversão geral = Etapa 1 × Etapa 2 × Etapa 3 × Etapa 4\n",
    "\n",
    "Conversão geral = 0.79 × 0.87 × 0.76 × 0.69\n",
    "\n",
    "Conversão geral ≈ 0.36"
   ]
  },
  {
   "cell_type": "markdown",
   "id": "8b11a0e5",
   "metadata": {},
   "source": [
    "Conclui-se que:\n",
    "* No Brasil, a maior perda de visitantes ocorre da etapa \"Detalhes do Imóvel para Check-out\"\n",
    "* A conversão geral no Brasil é de 36%."
   ]
  },
  {
   "cell_type": "markdown",
   "id": "90962620",
   "metadata": {},
   "source": [
    "#### Colômbia\n",
    "\n"
   ]
  },
  {
   "cell_type": "code",
   "execution_count": 998,
   "id": "30efedbc",
   "metadata": {},
   "outputs": [],
   "source": [
    "# Defina as linhas iniciais e finais que você deseja ler\n",
    "linha_inicial = 31  \n",
    "linha_final = 55   \n",
    "\n",
    "# Calcule o número de linhas a serem lidas\n",
    "n_linhas = linha_final - linha_inicial + 1\n",
    "\n",
    "# Faça a leitura das linhas desejadas do arquivo Excel\n",
    "df_clmb = pd.read_excel(\"Airbnb.xlsx\", sheet_name=\"Fluxo de reserva de imóvel - Br\", skiprows=range(1, linha_inicial), nrows=n_linhas)"
   ]
  },
  {
   "cell_type": "code",
   "execution_count": 999,
   "id": "ecba3fdd",
   "metadata": {},
   "outputs": [],
   "source": [
    "df_clmb.head()"
   ]
  },
  {
   "cell_type": "markdown",
   "id": "93bfdb1f",
   "metadata": {},
   "source": [
    "#### Funil 1: Da etapa `Home` para `Resultado de Busca`"
   ]
  },
  {
   "cell_type": "code",
   "execution_count": 1000,
   "id": "6a086ca0",
   "metadata": {},
   "outputs": [],
   "source": [
    "(df_clmb['Resultado de busca'].sum()/df_clmb['Home'].sum()).round(2)"
   ]
  },
  {
   "cell_type": "markdown",
   "id": "50e67ef0",
   "metadata": {},
   "source": [
    "#### Funil 2: Da etapa `Resultado de busca` para `Detalhes do imóvel`"
   ]
  },
  {
   "cell_type": "code",
   "execution_count": 1001,
   "id": "5c965dbb",
   "metadata": {},
   "outputs": [],
   "source": [
    "(df_clmb['Detalhes do imóvel'].sum()/df_clmb['Resultado de busca'].sum()).round(2)"
   ]
  },
  {
   "cell_type": "markdown",
   "id": "e5ae54b1",
   "metadata": {},
   "source": [
    "#### Funil 3: Da etapa `Detalhes do imóvel` para `Check-out`"
   ]
  },
  {
   "cell_type": "code",
   "execution_count": 1002,
   "id": "bcf5d53d",
   "metadata": {},
   "outputs": [],
   "source": [
    "(df_clmb['Check-out'].sum()/df_clmb['Detalhes do imóvel'].sum()).round(2)"
   ]
  },
  {
   "cell_type": "markdown",
   "id": "d7308111",
   "metadata": {},
   "source": [
    "#### Funil 4: Da etapa `Check-out` para `Conclusão da reserva`"
   ]
  },
  {
   "cell_type": "code",
   "execution_count": 1003,
   "id": "837d6ff6",
   "metadata": {},
   "outputs": [],
   "source": [
    "(df_clmb['Conclusão da reserva'].sum()/df_clmb['Check-out'].sum()).round(2)"
   ]
  },
  {
   "cell_type": "markdown",
   "id": "ef153607",
   "metadata": {},
   "source": [
    "Vamos calcular a queda percentual entre cada etapa:\n",
    "\n",
    "1. Da etapa 1 para etapa 2:\n",
    "(0.81 - 0.62)/0.81 = 0.23 ou 23%\n",
    "\n",
    "2. Da etapa 2 para etapa 3:\n",
    "(0.62 - 0.7)/0.62 = -0.129 ou -12.90%\n",
    "\n",
    "3. Da etapa 3 para etapa 4:\n",
    "(0.7 - 0.36)/0.7 = 0.48 ou 48%\n",
    "\n",
    "Por fim, a conversão geral:\n",
    "\n",
    "Conversão geral = Etapa 1 × Etapa 2 × Etapa 3 × Etapa 4\n",
    "\n",
    "Conversão geral = 0.81 × 0.62 × 0.7 × 0.36\n",
    "\n",
    "Conversão geral ≈ 0.12"
   ]
  },
  {
   "cell_type": "markdown",
   "id": "518dbdac",
   "metadata": {},
   "source": [
    "Conclui-se que:\n",
    "* Na Colômbia, a maior perda de visitantes ocorre da etapa \"Da etapa Check-out para Conclusão da reserva\"\n",
    "* A conversão geral na Colômbia é de 12%."
   ]
  },
  {
   "cell_type": "markdown",
   "id": "4a8d7985",
   "metadata": {},
   "source": [
    "#### México"
   ]
  },
  {
   "cell_type": "code",
   "execution_count": 1004,
   "id": "54bb29fa",
   "metadata": {},
   "outputs": [],
   "source": [
    "# Defina as linhas iniciais e finais que você deseja ler\n",
    "linha_inicial = 61  \n",
    "linha_final = 85   \n",
    "\n",
    "# Calcule o número de linhas a serem lidas\n",
    "n_linhas = linha_final - linha_inicial + 1\n",
    "\n",
    "# Faça a leitura das linhas desejadas do arquivo Excel\n",
    "df_mxc = pd.read_excel(\"Airbnb.xlsx\", sheet_name=\"Fluxo de reserva de imóvel - Br\", skiprows=range(1, linha_inicial), nrows=n_linhas)"
   ]
  },
  {
   "cell_type": "code",
   "execution_count": 1005,
   "id": "90a2e06b",
   "metadata": {},
   "outputs": [],
   "source": [
    "df_mxc.head()"
   ]
  },
  {
   "cell_type": "markdown",
   "id": "d9d149ba",
   "metadata": {},
   "source": [
    "#### Funil 1: Da etapa `Home` para `Resultado de Busca`"
   ]
  },
  {
   "cell_type": "code",
   "execution_count": 1006,
   "id": "03f7d8c3",
   "metadata": {},
   "outputs": [],
   "source": [
    "(df_mxc['Resultado de busca'].sum()/df_mxc['Home'].sum()).round(2)"
   ]
  },
  {
   "cell_type": "markdown",
   "id": "3d340ed7",
   "metadata": {},
   "source": [
    "#### Funil 2: Da etapa `Resultado de busca` para `Detalhes do imóvel`"
   ]
  },
  {
   "cell_type": "code",
   "execution_count": 1007,
   "id": "aec955be",
   "metadata": {},
   "outputs": [],
   "source": [
    "(df_mxc['Detalhes do imóvel'].sum()/df_mxc['Resultado de busca'].sum()).round(2)"
   ]
  },
  {
   "cell_type": "markdown",
   "id": "a1e5d846",
   "metadata": {},
   "source": [
    "#### Funil 3: Da etapa `Detalhes do imóvel` para `Check-out`"
   ]
  },
  {
   "cell_type": "code",
   "execution_count": 1008,
   "id": "f2415b83",
   "metadata": {},
   "outputs": [],
   "source": [
    "(df_mxc['Check-out'].sum()/df_mxc['Detalhes do imóvel'].sum()).round(2)"
   ]
  },
  {
   "cell_type": "markdown",
   "id": "b5e81f4d",
   "metadata": {},
   "source": [
    "#### Funil 4: Da etapa `Check-out` para `Conclusão da reserva`"
   ]
  },
  {
   "cell_type": "code",
   "execution_count": 1009,
   "id": "b9abae4b",
   "metadata": {},
   "outputs": [],
   "source": [
    "(df_mxc['Conclusão da reserva'].sum()/df_mxc['Check-out'].sum()).round(2)"
   ]
  },
  {
   "cell_type": "markdown",
   "id": "81ee23aa",
   "metadata": {},
   "source": [
    "Vamos calcular a queda percentual entre cada etapa:\n",
    "\n",
    "1. Da etapa 1 para etapa 2:\n",
    "(0.61 - 0.88)/0.61 = -0.44 ou -44%\n",
    "\n",
    "2. Da etapa 2 para etapa 3:\n",
    "(0.88 - 0.59)/0.88 = 0.32 ou 32%\n",
    "\n",
    "3. Da etapa 3 para etapa 4:\n",
    "(0.59 - 0.78)/0.59 = -0.32 ou -32%\n",
    "\n",
    "Por fim, a conversão geral:\n",
    "\n",
    "Conversão geral = Etapa 1 × Etapa 2 × Etapa 3 × Etapa 4\n",
    "\n",
    "Conversão geral = 0.61 × 0.88 × 0.59 × 0.78\n",
    "\n",
    "Conversão geral ≈ 0.24"
   ]
  },
  {
   "cell_type": "markdown",
   "id": "1b7b5388",
   "metadata": {},
   "source": [
    "Conclui-se que:\n",
    "* No México, a maior perda de visitantes ocorre da etapa \"Da etapa Detalhes do Imóvel para Check-out\"\n",
    "* A conversão geral no México é de 24%."
   ]
  },
  {
   "cell_type": "markdown",
   "id": "c771fd8e",
   "metadata": {},
   "source": [
    "#### Argentina"
   ]
  },
  {
   "cell_type": "code",
   "execution_count": 1010,
   "id": "69fa8823",
   "metadata": {},
   "outputs": [],
   "source": [
    "# Defina as linhas iniciais e finais que você deseja ler\n",
    "linha_inicial = 90  \n",
    "linha_final = 114  \n",
    "\n",
    "# Calcule o número de linhas a serem lidas\n",
    "n_linhas = linha_final - linha_inicial + 1\n",
    "\n",
    "# Faça a leitura das linhas desejadas do arquivo Excel\n",
    "df_agt = pd.read_excel(\"Airbnb.xlsx\", sheet_name=\"Fluxo de reserva de imóvel - Br\", skiprows=range(1, linha_inicial), nrows=n_linhas)"
   ]
  },
  {
   "cell_type": "code",
   "execution_count": 1011,
   "id": "ea002ab8",
   "metadata": {},
   "outputs": [],
   "source": [
    "df_agt.head()"
   ]
  },
  {
   "cell_type": "markdown",
   "id": "997bfd66",
   "metadata": {},
   "source": [
    "#### Funil 1: Da etapa `Home` para `Resultado de Busca`"
   ]
  },
  {
   "cell_type": "code",
   "execution_count": 1012,
   "id": "5d26b350",
   "metadata": {},
   "outputs": [],
   "source": [
    "(df_agt['Resultado de busca'].sum()/df_agt['Home'].sum()).round(2)"
   ]
  },
  {
   "cell_type": "markdown",
   "id": "8055d845",
   "metadata": {},
   "source": [
    "#### Funil 2: Da etapa `Resultado de busca` para `Detalhes do imóvel`"
   ]
  },
  {
   "cell_type": "code",
   "execution_count": 1013,
   "id": "78dec1b5",
   "metadata": {},
   "outputs": [],
   "source": [
    "(df_agt['Detalhes do imóvel'].sum()/df_agt['Resultado de busca'].sum()).round(2)"
   ]
  },
  {
   "cell_type": "markdown",
   "id": "c056ba21",
   "metadata": {},
   "source": [
    "#### Funil 3: Da etapa `Detalhes do imóvel` para `Check-out`"
   ]
  },
  {
   "cell_type": "code",
   "execution_count": 1014,
   "id": "2e0931fd",
   "metadata": {},
   "outputs": [],
   "source": [
    "(df_agt['Check-out'].sum()/df_agt['Detalhes do imóvel'].sum()).round(2)"
   ]
  },
  {
   "cell_type": "markdown",
   "id": "be7d5768",
   "metadata": {},
   "source": [
    "#### Funil 4: Da etapa `Check-out` para `Conclusão da reserva`"
   ]
  },
  {
   "cell_type": "code",
   "execution_count": 1015,
   "id": "9f6f9403",
   "metadata": {},
   "outputs": [],
   "source": [
    "(df_agt['Conclusão da reserva'].sum()/df_agt['Check-out'].sum()).round(2)"
   ]
  },
  {
   "cell_type": "markdown",
   "id": "52c1319b",
   "metadata": {},
   "source": [
    "Vamos calcular a queda percentual entre cada etapa:\n",
    "\n",
    "1. Da etapa 1 para etapa 2:\n",
    "(0.75 - 0.65)/0.75 = 0.13 ou 13%\n",
    "\n",
    "2. Da etapa 2 para etapa 3:\n",
    "(0.65 - 0.54)/0.65 = 0.169 ou 16.9%\n",
    "\n",
    "3. Da etapa 3 para etapa 4:\n",
    "(0.54 - 0.45)/0.54 = 0.166 ou 16.6%\n",
    "\n",
    "Por fim, a conversão geral:\n",
    "\n",
    "Conversão geral = Etapa 1 × Etapa 2 × Etapa 3 × Etapa 4\n",
    "\n",
    "Conversão geral = 0.75 × 0.65 × 0.54 × 0.45\n",
    "\n",
    "Conversão geral ≈ 0.118"
   ]
  },
  {
   "cell_type": "markdown",
   "id": "272523f4",
   "metadata": {},
   "source": [
    "Conclui-se que:\n",
    "* Na Argentina, a maior perda de visitantes ocorre da etapa \"Da etapa Detalhes do Imóvel para Check-out\"\n",
    "* A conversão geral no México é de 11.8%."
   ]
  },
  {
   "cell_type": "markdown",
   "id": "f6e7256c",
   "metadata": {},
   "source": [
    "#### Conclusões Gerais:\n",
    "**Detalhes do Imóvel para Check-out**: Esta transição parece ser **crítica para a maioria dos países** (Brasil, México e Argentina). Pode ser necessário investigar por que muitos usuários estão abandonando o processo nesta etapa específica. Pode haver fatores como usabilidade da plataforma, informações insuficientes ou outro obstáculo que os impede de prosseguir.\n",
    "\n",
    "**Conversão Geral**: O **Brasil** possui a **conversão geral mais alta** entre os quatro países, seguido pelo México, Colômbia e Argentina. Esta métrica indica a proporção de usuários que completam a jornada desde a página inicial até a conclusão da reserva. Uma maior conversão geral sugere que o funil de vendas é mais eficaz.\n",
    "\n",
    "**Considerações Específicas**: A **Colômbia** se destaca pela significativa queda de usuários entre \"Check-out\" e \"Conclusão da reserva\". A **Argentina** também possui uma queda significativa nesta etapa. Pode haver barreiras específicas nesta etapa, **como problemas no método de pagamento ou preocupações de segurança**, que precisam ser investigadas. "
   ]
  },
  {
   "cell_type": "markdown",
   "id": "ede6bae6",
   "metadata": {},
   "source": [
    "#### 4. Análise Cohort"
   ]
  },
  {
   "cell_type": "markdown",
   "id": "9d57c230",
   "metadata": {},
   "source": [
    "Em negócios e estatística, um \"cohort\" refere-se a um grupo de clientes ou usuários que compartilham uma característica ou experiência comum durante um determinado período, como a data de primeira compra ou inscrição em um serviço. A análise de cohort é uma ferramenta valiosa para empresas, pois permite rastrear, analisar e entender padrões de retenção, engajamento e comportamento de compra ao longo do tempo, ajudando a informar estratégias de marketing e tomada de decisão."
   ]
  },
  {
   "cell_type": "markdown",
   "id": "3bb2bab5",
   "metadata": {},
   "source": [
    "<img src = \"https://lh6.googleusercontent.com/HmZLiwML0ie1GE4MZ1Q7FupxrRBzeSkUZ4dfH8aTz3SJXdKauAHiY3rYlUJioXZDW50ucAygSHg3Qr43rLeyKoscA7cfKCD2EWxc0KcKUh-LEZv5QMzWH0qXhotpFzCEIS5QpiVu0S134FTEu72J6Jo\" width = \"80%\">"
   ]
  },
  {
   "cell_type": "code",
   "execution_count": 1016,
   "id": "e8c8679f",
   "metadata": {},
   "outputs": [],
   "source": [
    "cohort = pd.read_excel(\"Airbnb.xlsx\", sheet_name = 'Retenção de imóveis', index_col = 'Mês de cadastro do imóvel')\n",
    "cohort.index = cohort.index.strftime('%Y-%m-%d')"
   ]
  },
  {
   "cell_type": "code",
   "execution_count": 1017,
   "id": "93cbaa59",
   "metadata": {
    "scrolled": true
   },
   "outputs": [],
   "source": [
    "cohort"
   ]
  },
  {
   "cell_type": "markdown",
   "id": "158e6a3c",
   "metadata": {},
   "source": [
    "Se olharmos para os valores de retenção nos primeiros 6 meses de cada cohort, parece que, de fato, os cohorts mais recentes, em geral, têm taxas de retenção mais altas. Por exemplo, o cohort de Julho de 2022 tem uma retenção de 0.81 no sexto mês, enquanto o cohort de Janeiro de 2022 tem uma retenção de 0.56 no mesmo período. Ademais, o cohort de Abril de 2022 tem uma retenção de 0.50 após 6 meses, o que é a taxa mais baixa entre todos os cohorts neste período."
   ]
  },
  {
   "cell_type": "code",
   "execution_count": 1018,
   "id": "54fe4bf6",
   "metadata": {},
   "outputs": [],
   "source": [
    "plt.figure(figsize=(10,8))\n",
    "plt.title(\"Taxa de Retenção\")\n",
    "\n",
    "sns.heatmap(\n",
    "    data = cohort, \n",
    "    annot = True,\n",
    "    cmap=\"YlGnBu\",  # escolhendo a paleta de cores\n",
    ")\n",
    "plt.show()\n"
   ]
  },
  {
   "cell_type": "markdown",
   "id": "91554c1a",
   "metadata": {},
   "source": [
    "A partir do heatmap, podemos ver que os meses de Abril e Outubro têm um padrão de retenção semelhante."
   ]
  },
  {
   "cell_type": "code",
   "execution_count": 1019,
   "id": "ee7b218b",
   "metadata": {},
   "outputs": [],
   "source": [
    "retention_avg = cohort.mean()\n",
    "deviation_from_avg = cohort - retention_avg\n",
    "plt.figure(figsize=(10,8))\n",
    "plt.title(\"Desvio da Média de Retenção por Cohort\")\n",
    "\n",
    "sns.heatmap(\n",
    "    data = deviation_from_avg, \n",
    "    annot = True,\n",
    "    cmap=\"coolwarm\", \n",
    "    center=0,\n",
    ")\n",
    "plt.show()"
   ]
  },
  {
   "cell_type": "markdown",
   "id": "8a700161",
   "metadata": {},
   "source": [
    "É possível notar que nos meses de abril e outubro, realmente houve maiores desvios negativos da média, e por outro lado nos meses mais recentes, um maior desvio positivo."
   ]
  },
  {
   "cell_type": "markdown",
   "id": "64d90a3b",
   "metadata": {},
   "source": [
    "Realizar a projeção do número de reservas nas mesmas hospedagens em 2023, baseando-se nos dados de 2021 e 2022, para cada um dos 4 países da América Latina. Depois de fazer o cálculo, represente graficamente estas projeções."
   ]
  },
  {
   "cell_type": "markdown",
   "id": "54b498ab",
   "metadata": {},
   "source": [
    "#### 5. Regressão Linear"
   ]
  },
  {
   "cell_type": "markdown",
   "id": "718bd88e",
   "metadata": {},
   "source": [
    "Irei realizar a projeção do número de reservas nas mesmas hospedagens em 2023, baseando-se nos dados de 2021 e 2022, para cada um dos 4 países da América Latina."
   ]
  },
  {
   "cell_type": "code",
   "execution_count": 1020,
   "id": "6c779ee0",
   "metadata": {
    "scrolled": true
   },
   "outputs": [],
   "source": [
    "df_br.head()"
   ]
  },
  {
   "cell_type": "code",
   "execution_count": 1021,
   "id": "1c4fa024",
   "metadata": {},
   "outputs": [],
   "source": [
    "# Criando as colunas 'mês' e 'ano'\n",
    "df_br['mês'] = df_br['Mês'].dt.month\n",
    "df_br['ano'] = df_br['Mês'].dt.year\n",
    "\n",
    "# Definindo a função para extrair a estação do ano\n",
    "def get_estação(date):\n",
    "    if (date.month == 12 and date.day >= 21) or (date.month <= 3 and date.day <= 20):\n",
    "        return 'Verão'\n",
    "    elif (date.month == 3 and date.day >= 21) or (date.month <= 6 and date.day <= 20):\n",
    "        return 'Outono'\n",
    "    elif (date.month == 6 and date.day >= 21) or (date.month <= 9 and date.day <= 22):\n",
    "        return 'Inverno'\n",
    "    else:\n",
    "        return 'Primavera'\n",
    "\n",
    "# Criando a coluna 'estação'\n",
    "df_br['estação'] = df_br['Mês'].apply(get_estação)"
   ]
  },
  {
   "cell_type": "code",
   "execution_count": 1022,
   "id": "9ab1d5c2",
   "metadata": {},
   "outputs": [],
   "source": [
    "df_br.rename(columns = {'Conclusão da reserva':'conclusão'}, inplace = True)"
   ]
  },
  {
   "cell_type": "code",
   "execution_count": 1023,
   "id": "5098e449",
   "metadata": {},
   "outputs": [],
   "source": [
    "df_br = df_br[['mês', 'ano', 'estação', 'conclusão']]"
   ]
  },
  {
   "cell_type": "code",
   "execution_count": 1024,
   "id": "9a2afdc3",
   "metadata": {},
   "outputs": [],
   "source": [
    "df_br.head()"
   ]
  },
  {
   "cell_type": "markdown",
   "id": "90010c94",
   "metadata": {},
   "source": [
    "#### Linearidade"
   ]
  },
  {
   "cell_type": "code",
   "execution_count": 1025,
   "id": "cf9f0974",
   "metadata": {},
   "outputs": [],
   "source": [
    "df_copy = df_br.copy()\n",
    "df_copy.select_dtypes(include= [\"float64\", \"int64\"]).describe()"
   ]
  },
  {
   "cell_type": "code",
   "execution_count": 1026,
   "id": "cd4eb4f3",
   "metadata": {},
   "outputs": [],
   "source": [
    "x = df_copy.select_dtypes(include= [\"float64\", \"int64\"]).columns\n",
    "x"
   ]
  },
  {
   "cell_type": "code",
   "execution_count": 1027,
   "id": "99e258cd",
   "metadata": {},
   "outputs": [],
   "source": [
    "y = \"conclusão\"\n",
    "x = df_copy.select_dtypes(include= [\"float64\", \"int64\"]).columns\n",
    "\n",
    "\n",
    "for i in x:\n",
    "    if i != y:\n",
    "        figure = plt.figure\n",
    "        ax = plt.gca()\n",
    "        ax.scatter(df_copy[i], df_copy[y])\n",
    "        ax.set_xlabel(i)\n",
    "        ax.set_ylabel(y)\n",
    "        ax.set_title(\"{} vs {}\".format(i, y))\n",
    "\n",
    "        plt.legend()\n",
    "        plt.show()"
   ]
  },
  {
   "cell_type": "markdown",
   "id": "522be2b3",
   "metadata": {},
   "source": [
    "#### Variável x Variável (multicolinearidade)"
   ]
  },
  {
   "cell_type": "code",
   "execution_count": 1028,
   "id": "af4ddbb2",
   "metadata": {},
   "outputs": [],
   "source": [
    "plt.figure(figsize=(8, 6))\n",
    "sns.heatmap(df_br.corr(), annot=True, cmap=\"crest\")\n",
    "plt.show()"
   ]
  },
  {
   "cell_type": "markdown",
   "id": "9a99f505",
   "metadata": {},
   "source": [
    "#### Categóricas"
   ]
  },
  {
   "cell_type": "code",
   "execution_count": 1029,
   "id": "1e630f40",
   "metadata": {},
   "outputs": [],
   "source": [
    "df_copy.select_dtypes(include= [\"object\"])"
   ]
  },
  {
   "cell_type": "markdown",
   "id": "28d3f572",
   "metadata": {},
   "source": [
    "#### Cardinalidade"
   ]
  },
  {
   "cell_type": "code",
   "execution_count": 1030,
   "id": "954cd46a",
   "metadata": {},
   "outputs": [],
   "source": [
    "df_copy['estação'].value_counts()"
   ]
  },
  {
   "cell_type": "code",
   "execution_count": 1031,
   "id": "360f674a",
   "metadata": {},
   "outputs": [],
   "source": [
    "y = 'conclusão'\n",
    "x = df_copy.select_dtypes(include= [\"object\"]).columns\n",
    "\n",
    "for i in x:\n",
    "    figure = plt.figure\n",
    "    ax = plt.gca()\n",
    "    sns.boxplot(x=i, y=y, data=df_copy)\n",
    "    ax.set_xlabel(i)\n",
    "    ax.set_ylabel(y)\n",
    "    ax.set_title(\"{}\".format(i))\n",
    "\n",
    "    plt.legend()\n",
    "    plt.show()\n"
   ]
  },
  {
   "cell_type": "markdown",
   "id": "5a4a802d",
   "metadata": {},
   "source": [
    "### 2) Multicolinearidade"
   ]
  },
  {
   "cell_type": "code",
   "execution_count": 1032,
   "id": "69bba45b",
   "metadata": {
    "scrolled": true
   },
   "outputs": [],
   "source": [
    "df_copy = df_br.copy()\n",
    "df_copy.columns"
   ]
  },
  {
   "cell_type": "code",
   "execution_count": 1033,
   "id": "b7c8a465",
   "metadata": {
    "scrolled": true
   },
   "outputs": [],
   "source": [
    "from matplotlib import pyplot as plt\n",
    "corr = df_copy.corr()\n",
    "plt.figure(figsize=(8, 6))\n",
    "sns.heatmap(df.corr(), annot=True, cmap=\"crest\")\n",
    "plt.show();"
   ]
  },
  {
   "cell_type": "code",
   "execution_count": 1034,
   "id": "537bff86",
   "metadata": {
    "scrolled": true
   },
   "outputs": [],
   "source": [
    "dummies = pd.get_dummies(df_copy['estação']).rename(columns=lambda x: 'estação_' + str(x))\n",
    "df_copy = pd.concat([df_copy, dummies], axis=1)\n",
    "df_copy.drop(columns = ['estação'], inplace = True)\n",
    "df_copy"
   ]
  },
  {
   "cell_type": "code",
   "execution_count": 1035,
   "id": "e811397a",
   "metadata": {
    "scrolled": true
   },
   "outputs": [],
   "source": [
    "from statsmodels.stats.outliers_influence import variance_inflation_factor\n",
    "import pandas as pd\n",
    "import statsmodels.api as sm\n",
    "\n",
    "X = df_copy[['mês', 'ano']]\n",
    "\n",
    "vif = pd.DataFrame()\n",
    "vif[\"Variable\"] = X.columns\n",
    "vif[\"VIF\"] = [variance_inflation_factor(X.values, i) for i in range(X.shape[1])]\n",
    "\n",
    "vif"
   ]
  },
  {
   "cell_type": "markdown",
   "id": "c7f599cc",
   "metadata": {},
   "source": [
    "Agora precisamos fitar o modelo para analisar os resíduos"
   ]
  },
  {
   "cell_type": "code",
   "execution_count": 1036,
   "id": "a8bf00ec",
   "metadata": {},
   "outputs": [],
   "source": [
    "mod1 = smf.ols(formula = 'conclusão ~ mês + ano + estação_Outono + estação_Primavera + estação_Verão', data = df_copy) \n",
    "res = mod1.fit()"
   ]
  },
  {
   "cell_type": "code",
   "execution_count": 1037,
   "id": "08ff7d5f",
   "metadata": {
    "scrolled": true
   },
   "outputs": [],
   "source": [
    "y = df_copy[\"conclusão\"]\n",
    "fig, ax = plt.subplots(1, 1)\n",
    "\n",
    "sns.residplot(x=res.fittedvalues, y=res.resid, lowess=True) #lowess mostra a linha azul em torno da pontilhada\n",
    "ax.title.set_text('Residuals vs Fitted')\n",
    "ax.set(xlabel='Fitted', ylabel='Residuals')"
   ]
  },
  {
   "cell_type": "markdown",
   "id": "e63c188f",
   "metadata": {},
   "source": [
    "Homecedasticidade não foi respeitada. Precisaremos transformar nosso y"
   ]
  },
  {
   "cell_type": "code",
   "execution_count": 1038,
   "id": "9726e1b2",
   "metadata": {},
   "outputs": [],
   "source": [
    "df_copy['log_conclusão'] = np.log(df_copy['conclusão'])\n",
    "\n",
    "mod2 = smf.ols(formula = 'log_conclusão ~ mês + ano + estação_Outono + estação_Primavera + estação_Verão', data = df_copy) \n",
    "res = mod2.fit()"
   ]
  },
  {
   "cell_type": "code",
   "execution_count": 1039,
   "id": "cf6b316f",
   "metadata": {},
   "outputs": [],
   "source": [
    "fig, ax = plt.subplots(1, 1)\n",
    "\n",
    "sns.residplot(x=res.fittedvalues, y=res.resid, lowess=True)\n",
    "ax.title.set_text('Residuals vs Fitted')\n",
    "ax.set(xlabel='Fitted', ylabel='Residuals')"
   ]
  },
  {
   "cell_type": "code",
   "execution_count": 1040,
   "id": "3e1f6253",
   "metadata": {},
   "outputs": [],
   "source": [
    "res.resid.mean()"
   ]
  },
  {
   "cell_type": "markdown",
   "id": "ae253e04",
   "metadata": {},
   "source": [
    "Aqui precisamos tomar uma decisão. Nossa homocedasticidade melhorou, mas temos pontos bastante fora da curva. \n",
    "Como nosso erro médio está bastante em torno de zero, vamos continuar com nossa regressão, tendo em mente que a homocedasticidade não está perfeita."
   ]
  },
  {
   "cell_type": "markdown",
   "id": "f28b8295",
   "metadata": {},
   "source": [
    "#### 3) Resíduo versus variável independente"
   ]
  },
  {
   "cell_type": "code",
   "execution_count": 1041,
   "id": "204ae9e6",
   "metadata": {},
   "outputs": [],
   "source": [
    "df_resid = df_copy.copy() \n",
    "df_resid[\"residuo\"] = res.resid\n",
    "\n",
    "corr = df_copy.corr()\n",
    "plt.figure(figsize=(20, 6))\n",
    "sns.heatmap(df_resid.corr(), annot=True, cmap=\"crest\")\n",
    "plt.show()"
   ]
  },
  {
   "cell_type": "markdown",
   "id": "8d89d0a9",
   "metadata": {},
   "source": [
    "Resíduo não parece correlacionado com nenhuma variável."
   ]
  },
  {
   "cell_type": "markdown",
   "id": "6eed0100",
   "metadata": {},
   "source": [
    "#### 4) Autocorrelação"
   ]
  },
  {
   "cell_type": "code",
   "execution_count": 1042,
   "id": "560ccce8",
   "metadata": {},
   "outputs": [],
   "source": [
    "df_auto = res.resid.reset_index().rename(columns={0: \"resid\"})\n",
    "\n",
    "plt.scatter(df_auto[\"index\"] , df_auto[\"resid\"])\n",
    "plt.axhline(0, color='red')\n",
    "plt.xlabel('Index');\n",
    "plt.ylabel('Residuals');"
   ]
  },
  {
   "cell_type": "code",
   "execution_count": 1043,
   "id": "0473b68e",
   "metadata": {},
   "outputs": [],
   "source": [
    "from statsmodels.stats.stattools import durbin_watson\n",
    "\n",
    "durbin_watson(res.resid)"
   ]
  },
  {
   "cell_type": "markdown",
   "id": "4753526a",
   "metadata": {},
   "source": [
    "Há autocorrelação, não podemos confiar 100% nas estatísticas do modelo."
   ]
  },
  {
   "cell_type": "markdown",
   "id": "b4e9ab5c",
   "metadata": {},
   "source": [
    "#### 7) Resíduos tem distribuição normal"
   ]
  },
  {
   "cell_type": "code",
   "execution_count": 1044,
   "id": "b1b99838",
   "metadata": {},
   "outputs": [],
   "source": [
    "fig, ax = plt.subplots(1, 1)\n",
    "sm.ProbPlot(res.resid).qqplot(line='s', ax=ax)\n",
    "ax.title.set_text('QQ Plot')"
   ]
  },
  {
   "cell_type": "code",
   "execution_count": 1045,
   "id": "abf44245",
   "metadata": {},
   "outputs": [],
   "source": [
    "plt.hist(res.resid);"
   ]
  },
  {
   "cell_type": "markdown",
   "id": "63d01f92",
   "metadata": {},
   "source": [
    "Nosso resíduo não tem uma distribuição normal, o que significa que os testes de hipótese que serão feitos (p-valores) não poderão ser 100% confiáveis."
   ]
  },
  {
   "cell_type": "code",
   "execution_count": 1046,
   "id": "888c3154",
   "metadata": {},
   "outputs": [],
   "source": [
    "print(res.summary())"
   ]
  },
  {
   "cell_type": "markdown",
   "id": "9fa69a19",
   "metadata": {},
   "source": [
    "Algumas variáveis não estão explicando bem o modelo, então criarei um modelo mais simples."
   ]
  },
  {
   "cell_type": "code",
   "execution_count": 1047,
   "id": "1b4661d9",
   "metadata": {},
   "outputs": [],
   "source": [
    "mod3 = smf.ols(formula = 'log_conclusão ~ mês + ano', data = df_copy) \n",
    "res = mod3.fit()"
   ]
  },
  {
   "cell_type": "code",
   "execution_count": 1048,
   "id": "f83fa2a8",
   "metadata": {},
   "outputs": [],
   "source": [
    "print(res.summary())"
   ]
  },
  {
   "cell_type": "code",
   "execution_count": null,
   "id": "4a5ec01b",
   "metadata": {},
   "outputs": [],
   "source": []
  }
 ],
 "metadata": {
  "kernelspec": {
   "display_name": "Python 3 (ipykernel)",
   "language": "python",
   "name": "python3"
  },
  "language_info": {
   "codemirror_mode": {
    "name": "ipython",
    "version": 3
   },
   "file_extension": ".py",
   "mimetype": "text/x-python",
   "name": "python",
   "nbconvert_exporter": "python",
   "pygments_lexer": "ipython3",
   "version": "3.10.11"
  }
 },
 "nbformat": 4,
 "nbformat_minor": 5
}
